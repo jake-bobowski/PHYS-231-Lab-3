{
 "cells": [
  {
   "cell_type": "markdown",
   "id": "b64066df",
   "metadata": {
    "deletable": false,
    "editable": false,
    "tags": []
   },
   "source": [
    "# <div style=\"background-color:rgba(204, 229, 255, 0.5); text-align:center; vertical-align: middle; padding:40px 0; margin-top:30px\"><span style=\"color:rgba(0, 76, 153, 1);\">PHYS 231 Lab #3</span></div>"
   ]
  },
  {
   "cell_type": "markdown",
   "id": "45ea2217",
   "metadata": {
    "deletable": false,
    "editable": false,
    "tags": []
   },
   "source": [
    "***\n",
    "## Lab Learning Outcomes:\n",
    "By the end of the PHYS 231 Lab #3, students will be able to:\n",
    "* <b><span style=\"color:rgba(0, 153, 76, 1);\">Design, build, and test practical $RC$ circuits.</span></b>\n",
    "* <b><span style=\"color:rgba(0, 153, 76, 1);\">Determine the $RC$ time constant of charging and discharging capacitors using an oscilloscope and a multimeter.</span></b>\n",
    "* <b><span style=\"color:rgba(0, 153, 76, 1);\">Perform a weighted linear fit to a set of data and use the extracted best-fit parameters to determine a quantity of interest.</span></b>"
   ]
  },
  {
   "cell_type": "markdown",
   "id": "413a4fa8",
   "metadata": {
    "deletable": false,
    "editable": false,
    "tags": []
   },
   "source": [
    "# <div style=\"background-color:rgba(255, 204, 255, 0.5); text-align:center; vertical-align: middle; padding:40px 0; margin-top:30px\"><span style=\"color:rgba(102, 0, 204, 1);\">Part 1 - Installing & Importing Packages</span></div>\n",
    "\n",
    "## The 'installer.Check()' Function:\n",
    "\n",
    "Try running 'installer.Check()' by placing you're cursor inside the code cell below and then hitting 'Shift'+'Enter'.  If the function reports that some packages have been installed, run the cell with \"installer.Check()\" a second time.  It should report that all required packages are already installed."
   ]
  },
  {
   "cell_type": "code",
   "execution_count": null,
   "id": "42f1a402",
   "metadata": {
    "deletable": false,
    "editable": false,
    "tags": []
   },
   "outputs": [],
   "source": [
    "import installer\n",
    "installer.Check()"
   ]
  },
  {
   "cell_type": "markdown",
   "id": "4ed8daee",
   "metadata": {
    "deletable": false,
    "editable": false,
    "tags": []
   },
   "source": [
    "## Importing Packages/Modules:\n",
    "\n",
    "Once the packages are installed, they can be imported using the notation:\n",
    "```python\n",
    "import packageName\n",
    "```\n",
    "where 'packageName' is the name of the package to be imported.  Execute the import statements below by placing your cursor within the code cell and hitting 'Shift' + 'Enter'."
   ]
  },
  {
   "cell_type": "code",
   "execution_count": null,
   "id": "232562f7",
   "metadata": {
    "deletable": false,
    "editable": false,
    "tags": []
   },
   "outputs": [],
   "source": [
    "# Import required and commonly-used modules\n",
    "import httpimport\n",
    "import ipysheet\n",
    "import matplotlib.pyplot as plt\n",
    "import numpy as np\n",
    "import uncertainties\n",
    "with httpimport.remote_repo(\n",
    "    [\"data_entry\"], \"https://cmps-people.ok.ubc.ca/jbobowsk/phys231/Python\"\n",
    "):\n",
    "    import data_entry\n",
    "with httpimport.remote_repo(\n",
    "    [\"PHYS231\"], \"https://cmps-people.ok.ubc.ca/jbobowsk/phys231/Python\"\n",
    "):\n",
    "    import PHYS231\n",
    "\n",
    "# Initialize Otter\n",
    "import otter\n",
    "grader = otter.Notebook(\"PHYS 231 - Lab 3.ipynb\")"
   ]
  },
  {
   "cell_type": "markdown",
   "id": "0b52b14c",
   "metadata": {
    "deletable": false,
    "editable": false,
    "tags": []
   },
   "source": [
    "# <div style=\"background-color:rgba(255, 204, 255, 0.5); text-align:center; vertical-align: middle; padding:40px 0; margin-top:30px\"><span style=\"color:rgba(102, 0, 204, 1);\">Part 2 - Measurement of the $RC$ Time Constant with the DMM</span></div>\n",
    "\n",
    "## Spreadsheets\n",
    "\n",
    "We enter or import data into a spreadsheet-like environment using a function called 'Spreadsheet'.  You can call the 'Spreadsheet' function in the following way:\n",
    "```python\n",
    "PHYS231.Spreadsheet('csv_name')\n",
    "```\n",
    "where 'csv_name' can be anything you want as long as it is surrounded by quotation marks.  This name refers to a csv-file, or a file containing a list of '**c**omma-**s**eparated **v**alues'.  If the file 'csv_name.csv' exists and is located in the same directory as your Jupyter notebook (.ipynb file), then the data saved in the file will automatically be loaded into the spreadsheet.  If the file csv file doesn't exist, an empty spreadsheet will be opened.  Any data that you enter into the spreadsheet will then be saved to 'csv_name.csv'.  \n",
    "\n",
    "Additionally, the 'Spreadsheet' function will create a vector for each column of data in your spreadsheet.  The spreadsheet that you create below will have three columns: one called 't' for time, a second called y for position, and a third called 'erry' for the uncertainty in the position.  Once the spreadsheet has been populated with data, a set of vectors called 'v_t', 'v_y' and 'v_erry' will be created.  As you will see, these vectors can then be used in calculations and plots in other cells of the notebook.\n",
    "\n",
    "For additional information about the 'Spreadsheet' function, see **Appendix A** near the end of this notebook. \n",
    "\n",
    "Execute the cell below to open spreadsheet called \"Lab3_data\".  The first time you execute the cell below, the spreadsheet that is creased should have column headings and units, but no data.  Use the \"Add Row\" button to populate the table with the data stored in the DMM."
   ]
  },
  {
   "cell_type": "code",
   "execution_count": null,
   "id": "3bd177a0",
   "metadata": {},
   "outputs": [],
   "source": [
    "PHYS231.Spreadsheet(\"Lab3_data\")"
   ]
  },
  {
   "cell_type": "markdown",
   "id": "1f0e4c82",
   "metadata": {
    "deletable": false,
    "editable": false,
    "tags": []
   },
   "source": [
    "### Calculate the Uncertainty in Capacitor Voltage\n",
    "\n",
    "Look up specifications of the Agilent 34401A DMM to determine how to calculate the uncertainty in the measured capacitor voltages.  Complete that calculation in the cell below.  Recall that the spreadsheet used above will create a vector of the capacitor voltages called \"v_Vc\"."
   ]
  },
  {
   "cell_type": "code",
   "execution_count": null,
   "id": "ebacd18d",
   "metadata": {
    "tags": []
   },
   "outputs": [],
   "source": [
    "# Calculate the uncertainty in the capacitor voltage here.  \n",
    "# Please do NOT change the variable name.\n",
    "errVc = ..."
   ]
  },
  {
   "cell_type": "code",
   "execution_count": null,
   "id": "cfa37052",
   "metadata": {
    "deletable": false,
    "editable": false
   },
   "outputs": [],
   "source": [
    "grader.check(\"voltage_uncertainty\")"
   ]
  },
  {
   "cell_type": "markdown",
   "id": "e707ddc9",
   "metadata": {
    "deletable": false,
    "editable": false,
    "tags": []
   },
   "source": [
    "### Calculate the Natural Logarithm of the Capacitor Voltage\n",
    "\n",
    "For a capacitor discharging through a resistor, the capacitor voltage is given by:\n",
    "\n",
    "\\begin{align}\n",
    "V_\\mathrm{C}=V_0e^{-t/\\tau}\n",
    "\\end{align}\n",
    "\n",
    "where $V_0$ is the initial voltage across the capacitor at time $t=0$ and $\\tau = RC$ is the time constant.  This expression can be linearized by taking the natural logarithm of both sides such that:\n",
    "\n",
    "\\begin{align}\n",
    "\\ln\\left(V_\\mathrm{C}\\right)=\\left(-\\frac{1}{\\tau}\\right) t + \\ln\\left(V_0\\right)\n",
    "\\end{align}\n",
    "\n",
    "This is the equation of a straight line with slope $-1/\\tau$ and $y$-intercept $\\ln\\left(V_0\\right)$.\n",
    "\n",
    "In the cell below, calculate the natural logarithm of the capacitor voltage.  Recall that in Python, the natural logarithm of $x$ is called using\n",
    "```python\n",
    "np.log(x)\n",
    "```"
   ]
  },
  {
   "cell_type": "code",
   "execution_count": null,
   "id": "12058404",
   "metadata": {
    "tags": []
   },
   "outputs": [],
   "source": [
    "# Please do NOT change the variable name.\n",
    "lnVc = ..."
   ]
  },
  {
   "cell_type": "code",
   "execution_count": null,
   "id": "34c0f74e",
   "metadata": {
    "deletable": false,
    "editable": false
   },
   "outputs": [],
   "source": [
    "grader.check(\"ln_voltage\")"
   ]
  },
  {
   "cell_type": "markdown",
   "id": "6af00a57",
   "metadata": {
    "deletable": false,
    "editable": false,
    "tags": []
   },
   "source": [
    "### Calculate the uncertainty in $\\ln\\left(V_\\mathrm{C}\\right)$\n",
    "\n",
    "Recall the propagation of errors.  If $y = f\\left(x1, x2, ..., x_N\\right)$ and $x_i\\pm\\Delta x_i$ for $i= 1...N$ are known, then:\n",
    "\n",
    "\\begin{align}\n",
    "\\Delta y = \\sqrt{\\left(\\frac{\\partial f}{\\partial x_1}\\Delta x_1\\right)^2 + \\left(\\frac{\\partial f}{\\partial x_2}\\Delta x_2\\right)^2 + ... + \\left(\\frac{\\partial f}{\\partial x_N}\\Delta x_N\\right)^2}\n",
    "\\end{align}\n",
    "\n",
    "If $y=\\ln\\left(V_\\mathrm{C}\\right)$, then $y$ is a function of only a single variable and:\n",
    "\n",
    "\\begin{align}\n",
    "\\Delta y = \\left\\vert \\frac{\\partial y}{\\partial V_\\mathrm{C}}\\Delta V_\\mathrm{C}\\right\\vert\n",
    "\\end{align}\n",
    "\n",
    "In the cell below, calculate the uncertainty in $\\ln V_\\mathrm{C}$."
   ]
  },
  {
   "cell_type": "code",
   "execution_count": null,
   "id": "d9e07deb",
   "metadata": {
    "tags": []
   },
   "outputs": [],
   "source": [
    "# Please do NOT change the variable name.\n",
    "errlnVc = ..."
   ]
  },
  {
   "cell_type": "code",
   "execution_count": null,
   "id": "1a5f60a1",
   "metadata": {
    "deletable": false,
    "editable": false
   },
   "outputs": [],
   "source": [
    "grader.check(\"ln_uncertainty\")"
   ]
  },
  {
   "cell_type": "markdown",
   "id": "c48c8776",
   "metadata": {
    "deletable": false,
    "editable": false,
    "tags": []
   },
   "source": [
    "### Plot the data\n",
    "\n",
    "The $\\ln\\left(V_\\mathrm{C}\\right)$ data can now be plotted as a function of time.  Execute the cell below to created a scatter plot with error bars."
   ]
  },
  {
   "cell_type": "code",
   "execution_count": null,
   "id": "8a8a93b4",
   "metadata": {
    "tags": []
   },
   "outputs": [],
   "source": [
    "fig1 = PHYS231.Scatter(\n",
    "    xData = v_t,\n",
    "    yData = lnVc,\n",
    "    yErrors = errlnVc,\n",
    "    xlabel = \"time\",\n",
    "    ylabel = \"ln Vc\",\n",
    "    xUnits = \"s\",\n",
    "    yUnits = \"\",\n",
    ")"
   ]
  },
  {
   "cell_type": "markdown",
   "id": "10b942c8",
   "metadata": {
    "deletable": false,
    "editable": false,
    "tags": []
   },
   "source": [
    "### Prepare the data for a linear fit\n",
    "\n",
    "The scatter plot that you generated likely has a region that is linear and parts that deviate from the expected linear behaviour.  For our analysis, we want to fit only the linear portion of the data.\n",
    "\n",
    "If you started the data collection slightly before disconnecting the power supply from your circuit, you may have several dataa points at the earliest times that are all near $10\\rm\\ V$.  These points will need to be removed before the fit.\n",
    "\n",
    "It's likely that the data points at the latest times deviate from the linear trend.  This occurs because, at these times, the capacitor voltage is very small and the DMM doesn't have the resolution necessary to measure these small voltages accurately.  This points need to be removed from the data set before doing the linear fit. \n",
    "\n",
    "Fortunately, Python has a very easy way to select a subset of the values contained in a vector.  The notation is as follows:\n",
    "\n",
    "```python\n",
    "x = [0, 1, 2, 3, 4, 5, 6, 7, 8, 9]\n",
    "\n",
    "start = 2\n",
    "stop = 7\n",
    "y = x[2:7]\n",
    "```\n",
    "\n",
    "\"start\" and \"stop\" are positive integers.  Using the values given above, the $y$ vector will contain:\n",
    "\n",
    "```python\n",
    "y = [2, 3, 4, 5, 6]\n",
    "```\n",
    "\n",
    "Examine your plot above and adjust the \"start\" and \"stop\" values in the cell below until you have plot that looks linear."
   ]
  },
  {
   "cell_type": "code",
   "execution_count": null,
   "id": "f5e478c1",
   "metadata": {},
   "outputs": [],
   "source": [
    "# Enter suitable values for start and stop.\n",
    "start = ...\n",
    "stop = ...\n",
    "t_cut = v_t[start:stop]\n",
    "lnVc_cut = lnVc[start:stop]\n",
    "errlnVc_cut = errlnVc[start:stop]\n",
    "\n",
    "fig2 = PHYS231.Scatter(\n",
    "    xData = t_cut,\n",
    "    yData = lnVc_cut,\n",
    "    yErrors = errlnVc_cut,\n",
    "    xlabel = \"time\",\n",
    "    ylabel = \"ln Vc\",\n",
    "    xUnits = \"s\",\n",
    "    yUnits = \"\",\n",
    ")"
   ]
  },
  {
   "cell_type": "markdown",
   "id": "90df0a09",
   "metadata": {
    "deletable": false,
    "editable": false,
    "tags": []
   },
   "source": [
    "<!-- BEGIN QUESTION -->\n",
    "\n",
    "## Linear Fits\n",
    "\n",
    "The final thing that we'll do in Part 2 is fit a straight line through the data corrected (i.e. cut) data.  We'll use the 'LinearFit' contained in PHYS231.py to complete this task.  The function call to perform a weighted fit is:\n",
    "```python\n",
    "m, b, dm, db, fig = PHYS231.LinearFit(v_t, v_y, v_erry)\n",
    "```\n",
    "A weighted fit with a formatted plot can be called by using some of the other available arguments:\n",
    "```python\n",
    "m, b, dm, db, fig = PHYS231.LinearFit(xData = v_t, yData = v_y, yErrors = v_erry, xlabel = 'time', ylabel = 'position', xUnits = 's', yUnits = 'm')\n",
    "```\n",
    "Execute the cell below to preform a weighted linear fit to your data.\n",
    "\n",
    "For additional information about the 'LinearFit' function, see **Appendix C** near the end of this notebook. "
   ]
  },
  {
   "cell_type": "code",
   "execution_count": null,
   "id": "64c286cf",
   "metadata": {
    "tags": []
   },
   "outputs": [],
   "source": [
    "m, b, dm, db, fig3 = PHYS231.LinearFit(\n",
    "    xData = t_cut,\n",
    "    yData= lnVc_cut,\n",
    "    yErrors = errlnVc_cut,\n",
    "    xlabel = \"time\",\n",
    "    ylabel = \"position\",\n",
    "    xUnits = \"s\",\n",
    "    yUnits = \"\",\n",
    ")"
   ]
  },
  {
   "cell_type": "markdown",
   "id": "4a5a412e",
   "metadata": {
    "deletable": false,
    "editable": false,
    "tags": []
   },
   "source": [
    "<!-- END QUESTION -->\n",
    "\n",
    "## Determining the time constant: $\\tau\\pm\\Delta\\tau$\n",
    "\n",
    "Use the slope from the linear fit and its uncertainty to determine an experimental value for the time constant and its uncertainty."
   ]
  },
  {
   "cell_type": "code",
   "execution_count": null,
   "id": "f80abd40",
   "metadata": {
    "tags": []
   },
   "outputs": [],
   "source": [
    "# Enter an expression to calculate tau. \n",
    "# Please do NOT change the variable name.\n",
    "tau = ..."
   ]
  },
  {
   "cell_type": "code",
   "execution_count": null,
   "id": "5354377d",
   "metadata": {
    "tags": []
   },
   "outputs": [],
   "source": [
    "# Enter an expression to calculate the uncertainty in tau. \n",
    "# Please do NOT change the variable name.\n",
    "errtau = ..."
   ]
  },
  {
   "cell_type": "code",
   "execution_count": null,
   "id": "d795814c",
   "metadata": {},
   "outputs": [],
   "source": [
    "# The 'uncertainties' package can be used round the numerical value of tau based on the value of the uncertainty.\n",
    "# First, 'ufloat' is imported from the 'uncertainties' package.\n",
    "from uncertainties import ufloat\n",
    "\n",
    "# Next, tau and errtau and passed to 'ufloat'\n",
    "tau = ufloat(tau, errtau)\n",
    "print('𝜏 =', tau, 's')"
   ]
  },
  {
   "cell_type": "markdown",
   "id": "d8ad40f5",
   "metadata": {
    "deletable": false,
    "editable": false,
    "tags": []
   },
   "source": [
    "# <div style=\"background-color:rgba(255, 204, 255, 0.5); text-align:center; vertical-align: middle; padding:40px 0; margin-top:30px\"><span style=\"color:rgba(102, 0, 204, 1);\">Part 3 - Feedback and Submission</span></div>"
   ]
  },
  {
   "cell_type": "markdown",
   "id": "db1ac4f4",
   "metadata": {
    "deletable": false,
    "editable": false,
    "tags": []
   },
   "source": [
    "<!-- BEGIN QUESTION -->\n",
    "\n",
    "***\n",
    "**<span style=\"color:blue\">Question 3.1:</span>**  \n",
    "\n",
    "We welcome your feedback on the PHYS 231 labs!  Please feel free to include any comments you have about this lab in the cell below.  Your comments will be taken into consideration when revising/improving the PHYS 231 labs.  You can suggest improvements, point out anything that was unclear, comment on the strengths and weaknesses of the lab, ...\n",
    "\n",
    "This question is optional and will have no impact on your lab grade."
   ]
  },
  {
   "cell_type": "markdown",
   "id": "bb620051",
   "metadata": {},
   "source": [
    "_Type your answer here, replacing this text._"
   ]
  },
  {
   "cell_type": "markdown",
   "id": "b84b15da",
   "metadata": {
    "deletable": false,
    "editable": false,
    "tags": []
   },
   "source": [
    "<!-- END QUESTION -->\n",
    "\n",
    "***\n",
    "Once you've completed this notebook:\n",
    "- Save your work.\n",
    "- Run 'grader.export()' to generate a .zip file containing all of the materials that you will submit.\n",
    "- Download the generated .zip file.\n",
    "- Upload the .zip file to the PHYS 231 Canvas gradebook.\n",
    "\n",
    "Here is a <a href = \"https://cmps-people.ok.ubc.ca/jbobowsk/phys231/Python/images/Submission.gif\">GIF</a> showing how these steps are completed.  Once your completed notebook has been uploaded to the Canvas gradebook, you're done!"
   ]
  },
  {
   "cell_type": "markdown",
   "id": "eef85e1c-a0d6-4fde-97e8-e9d396f4995f",
   "metadata": {
    "deletable": false,
    "editable": false,
    "tags": []
   },
   "source": [
    "## Submission\n",
    "\n",
    "Make sure you have run all cells in your notebook in order before running the cell below, so that all images/graphs appear in the output. The cell below will generate a zip file for you to submit.\n"
    "**Please save before exporting!**"
   ]
  },
  {
   "cell_type": "code",
   "execution_count": null,
   "id": "5ad07240-60f8-4e80-a99e-b726c3e5c820",
   "metadata": {
    "deletable": false,
    "editable": false,
    "tags": []
   },
   "outputs": [],
   "source": [
    "# Save your notebook first, then run this cell to export your submission.\n",
    "grader.export()"
   ]
  },
  {
   "cell_type": "markdown",
   "id": "08414e63",
   "metadata": {
    "deletable": false,
    "editable": false,
    "tags": []
   },
   "source": [
    "# <div style=\"background-color:rgba(255, 204, 255, 0.5); text-align:center; vertical-align: middle; padding:40px 0; margin-top:30px\"><span style=\"color:rgba(102, 0, 204, 1);\">Part 4 - Playground (optional)</span></div>\n",
    "\n",
    "Feel free to add as many cells as you like below and use them as a playground for further independent investigations.  These cells won't be graded, so feel free to use them in any way that you like.  "
   ]
  },
  {
   "cell_type": "code",
   "execution_count": null,
   "id": "dd213842",
   "metadata": {},
   "outputs": [],
   "source": [
    "# Here's an empty code cell that you can use."
   ]
  },
  {
   "cell_type": "code",
   "execution_count": null,
   "id": "dc743590",
   "metadata": {},
   "outputs": [],
   "source": [
    "# Here's another empty code cell that you can use."
   ]
  },
  {
   "cell_type": "code",
   "execution_count": null,
   "id": "81627988",
   "metadata": {},
   "outputs": [],
   "source": [
    "# Here's yet another empty code cell that you can use.\n",
    "# If you need more, you can add cells using the '+' icon in the menu bar at to the top of the screen."
   ]
  },
  {
   "cell_type": "markdown",
   "id": "b8acafe4",
   "metadata": {
    "deletable": false,
    "editable": false,
    "tags": []
   },
   "source": [
    "### <div style=\"background-color:rgba(255, 255, 102, 0.5); text-align:left; padding:20px 0; margin-top:20px\">$\\quad$Appendix A &ndash; The Spreadsheet Function...</div>\n",
    "\n",
    "The function for generating spreadsheets that can be used for data entry or importing data from a csv (**c**omma-**s**eparated **v**alues) file is called as follows:\n",
    "```python\n",
    "PHYS231.Spreadsheet('csv_name')\n",
    "```\n",
    "There is only a single required input which represents the name of csv file.  If the csv file exists and is located in the same directory as your working Jupyter notebook (.ipynb file), then the data contained in the file will be used to populate the spreadsheet that opens.  If the csv file doesn't exist, then an empty spreadsheet will be opened.  In addition, the file 'csv_name.csv' will be created and it will contain whatever data you enter into the spreadsheet.\n",
    "\n",
    "Furthermore, for each column of data you enter into the spreadsheet, a vector representing a list of values from that column will be created.  For example, if you have a column with named 'position' in the spreadsheet, then a vector called 'v_position' that contains all of the data from that column will be created.  This vector can then be used in other operations such as calculations or plotting.  \n",
    "\n",
    "Our implementation of spreadsheets in Jupyter is based entirely off of a 'data_entry.py' function that was written by Dr. Carl Michal (https://phas.ubc.ca/~michal/). If you're interested in additional details, the source code for 'data_entry.py' can be found here: https://phas.ubc.ca/~michal/data_entry.py.\n",
    "***"
   ]
  },
  {
   "cell_type": "markdown",
   "id": "8b6c0116",
   "metadata": {
    "deletable": false,
    "editable": false,
    "tags": []
   },
   "source": [
    "### <div style=\"background-color:rgba(255, 255, 102, 0.5); text-align:left; padding:20px 0; margin-top:20px\">$\\quad$Appendix B &ndash; The Scatter Function...</div>\n",
    "\n",
    "The function for generating scatter plots is called as follows:\n",
    "```python\n",
    "PHYS231.Scatter(xData, yData, yErrors = [], xlabel = 'x-axis', ylabel = 'y-axis', xUnits = '', yUnits = '', fill = False, show = True)\n",
    "```\n",
    "The 'xData' and 'yData' inputs are required, all other arguments are optional with default values set.  The function returns the a single output (the formatted plot):\n",
    "```python\n",
    "fig\n",
    "```\n",
    "\n",
    "The function will do a simple scatter plot if no 'yError' are included.  It will included error bars if 'yErrors' are passed to the function.  The 'fill' and 'show' arguments should generally be false.  \n",
    "\n",
    "If the 'xData' list is empty, as in:\n",
    "```python\n",
    "xData = []\n",
    "```\n",
    "then the x-axis will be the trial number.  For example, is 'xData' is empty and 'yData' has 10 elements, the x-axis will span 1 to 10.\n",
    "\n",
    "### Scatter Example Implmentation\n",
    "The code block below shows an implementation of 'Scatter'.\n",
    "```python\n",
    "import PHYS231\n",
    "theta = [10, 20, 30] # degrees\n",
    "T = [2.02, 1.95, 2.13] # s\n",
    "errT = [0.02, 0.02, 0.03] # s\n",
    "fig = PHYS231.Scatter(theta, T, errT, 'initial angle' , 'period', 'degrees', 's')\n",
    "```\n",
    "\n",
    "If you're interested in generating your own plots with customized formatting, see the following Python-based plotting tutorial: https://cmps-people.ok.ubc.ca/jbobowsk/Python/html/Jupyter%20Basic%20Plots.html.\n",
    "***"
   ]
  },
  {
   "cell_type": "markdown",
   "id": "429071ad",
   "metadata": {
    "deletable": false,
    "editable": false,
    "tags": []
   },
   "source": [
    "### <div style=\"background-color:rgba(255, 255, 102, 0.5); text-align:left; padding:20px 0; margin-top:20px\">$\\quad$Appendix C &ndash; The LinearFit Function...</div>\n",
    "\n",
    "The linear-fit function is called as follows:\n",
    "```python\n",
    "PHYS231.LinearFit(xData, yData, yErrors = [], xlabel = 'x-axis', ylabel = 'y-axis', xUnits = '', yUnits = '', fill = False)\n",
    "```\n",
    "The xData and yData lists are required.  The others are optional with default values set.  The function returns the following outputs:\n",
    "```python\n",
    "Slope, Yintercept, errSlope, errYintercept, fig\n",
    "```\n",
    "The first four outputs are numerical values and 'fig' is the formatted plot. \n",
    "\n",
    "If $y$-uncertainities are provided, the function will perform a weighted fit.  The $y$-uncertainties list must be the same length as $x$- and $y$-data lists.  If $y$-uncertainties are not provided, the fit will be unweighted.  The other optional arguments include $x$- and $y$-axis names and units for the $x$- and $y$-datasets.  These must be entered as strings (enclosed in quotations) and they are used for formatting the outputs of the function.  If 'fill' is set to True, shading will be added around the best-fit line representing confindence intervals. \n",
    "\n",
    "### Unweighted Fit Example Implmentation\n",
    "The code block below shows the most basic use of 'LinearFit' for an unweighted fit without any of the optional arguments.\n",
    "```python\n",
    "import PHYS231\n",
    "V = [1, 2, 3, 4]\n",
    "I = [0.12, 0.198, 0.285, 0.412]\n",
    "m, b, dm, db, fig = PHYS231.LinearFit(V, I)\n",
    "```\n",
    "\n",
    "### Weighted Fit Example Implmentation\n",
    "This second blcok of code shows how to use 'LinearFit' to do a weighted fit.  It also makes use of all of the other optional arguments.  \n",
    "```python\n",
    "import PHYS231\n",
    "V = [1, 2, 3, 4]\n",
    "I = [0.12, 0.198, 0.285, 0.412]\n",
    "errI = [0.005, 0.012, 0.020, 0.025]\n",
    "m, b, dm, db, fig = PHYS231.LinearFit(V, I, errI, 'voltage' , 'current', 'V', 'A', True)\n",
    "```\n",
    "\n",
    "The 'm, b, dm, db, fig = ...' syntax is used to store the function outputs in varibles.  If you're interested in details of the fitting process, see the following Python-based tutorial: https://cmps-people.ok.ubc.ca/jbobowsk/Python/html/Jupyter%20Weighted%20Linear%20Fit.html\n",
    "***"
   ]
  },
  {
   "cell_type": "markdown",
   "id": "add983c5",
   "metadata": {
    "deletable": false,
    "editable": false,
    "tags": []
   },
   "source": [
    "Last update: September 30, 2022"
   ]
  },
  {
   "cell_type": "markdown",
   "id": "cc51f5a5",
   "metadata": {},
   "source": [
    " "
   ]
  }
 ],
 "metadata": {
  "kernelspec": {
   "display_name": "Python 3 (ipykernel)",
   "language": "python",
   "name": "python3"
  },
  "language_info": {
   "codemirror_mode": {
    "name": "ipython",
    "version": 3
   },
   "file_extension": ".py",
   "mimetype": "text/x-python",
   "name": "python",
   "nbconvert_exporter": "python",
   "pygments_lexer": "ipython3",
   "version": "3.10.5"
  },
  "otter": {
   "OK_FORMAT": true,
   "tests": {
    "err_time_constant": {
     "name": "err_time_constant",
     "points": 1,
     "suites": [
      {
       "cases": [],
       "scored": true,
       "setup": "",
       "teardown": "",
       "type": "doctest"
      }
     ]
    },
    "ln_uncertainty": {
     "name": "ln_uncertainty",
     "points": 1,
     "suites": [
      {
       "cases": [
        {
         "code": ">>> test = True\n>>> if len(errlnVc) == 0:\n...     test = False\n>>> test\nTrue",
         "hidden": false,
         "locked": false
        },
        {
         "code": ">>> test = True\n>>> for i in range(len(errlnVc)):\n...     if errlnVc[i] != errVc[i]/v_Vc[i]:\n...         test = False\n>>> test\nTrue",
         "hidden": false,
         "locked": false
        }
       ],
       "scored": true,
       "setup": "",
       "teardown": "",
       "type": "doctest"
      }
     ]
    },
    "ln_voltage": {
     "name": "ln_voltage",
     "points": 1,
     "suites": [
      {
       "cases": [
        {
         "code": ">>> test = True\n>>> if len(lnVc) == 0:\n...     test = False\n>>> test\nTrue",
         "hidden": false,
         "locked": false
        },
        {
         "code": ">>> test = True\n>>> for i in range(len(lnVc)):\n...     if lnVc[i] != np.log(v_Vc[i]):\n...         test = False\n>>> test\nTrue",
         "hidden": false,
         "locked": false
        }
       ],
       "scored": true,
       "setup": "",
       "teardown": "",
       "type": "doctest"
      }
     ]
    },
    "time_constant": {
     "name": "time_constant",
     "points": 1,
     "suites": [
      {
       "cases": [],
       "scored": true,
       "setup": "",
       "teardown": "",
       "type": "doctest"
      }
     ]
    },
    "voltage_uncertainty": {
     "name": "voltage_uncertainty",
     "points": 1,
     "suites": [
      {
       "cases": [
        {
         "code": ">>> test = True\n>>> if len(errVc) == 0:\n...     test = False\n>>> test\nTrue",
         "hidden": false,
         "locked": false
        },
        {
         "code": ">>> test = True\n>>> for i in range(len(errVc)):\n...     if errVc[i] != 0.0035/100*v_Vc[i] + 0.0005/100*10:\n...         test = False\n>>> test\nTrue",
         "hidden": false,
         "locked": false
        }
       ],
       "scored": true,
       "setup": "",
       "teardown": "",
       "type": "doctest"
      }
     ]
    }
   }
  },
  "vscode": {
   "interpreter": {
    "hash": "77dba65374da7962a54d11f39b7149d55d9d75e7fa8628567ecbe02e9e47b243"
   }
  }
 },
 "nbformat": 4,
 "nbformat_minor": 5
}
